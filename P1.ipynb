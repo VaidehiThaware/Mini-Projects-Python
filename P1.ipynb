{
 "cells": [
  {
   "cell_type": "markdown",
   "id": "e6b1c867-b2d2-4ef8-862e-81d28f39bc9e",
   "metadata": {},
   "source": [
    "# Project: Bisection Method for Finding Roots\n",
    "\n",
    "### Write a Python program to find the root of a linear function 𝑓(𝑥)=𝑚𝑥+𝑐 using the Bisection Method.\n",
    "\n",
    "### Steps:\n",
    "### 1.Input two values 𝑝1 and 𝑝2 such that 𝑓(𝑝1)⋅𝑓(𝑝2)<0.\n",
    "### 2.Calculate the midpoint (𝑝1+𝑝2)/2 iteratively.\n",
    "### 3.Narrow the range based on the sign of 𝑓(𝑚𝑖𝑑) until the desired precision (0.000001) is achieved.\n",
    "### 4.Output the root and all iterations.\n"
   ]
  },
  {
   "cell_type": "code",
   "execution_count": 5,
   "id": "9875b9ad-5b2e-4fc3-b5d5-5dd77584085c",
   "metadata": {},
   "outputs": [
    {
     "name": "stdin",
     "output_type": "stream",
     "text": [
      "Enter the first value for p1:  12\n",
      "Enter the second value for p2:  -12\n"
     ]
    },
    {
     "name": "stdout",
     "output_type": "stream",
     "text": [
      "p1 = 12.0 p2 = -12.0 mid = 0.0 f(mid) = -4.0\n",
      "p1 = 12.0 p2 = 0.0 mid = 6.0 f(mid) = 8.0\n",
      "p1 = 6.0 p2 = 0.0 mid = 3.0 f(mid) = 2.0\n",
      "p1 = 3.0 p2 = 0.0 mid = 1.5 f(mid) = -1.0\n",
      "p1 = 3.0 p2 = 1.5 mid = 2.25 f(mid) = 0.5\n",
      "p1 = 2.25 p2 = 1.5 mid = 1.875 f(mid) = -0.25\n",
      "p1 = 2.25 p2 = 1.875 mid = 2.0625 f(mid) = 0.125\n",
      "p1 = 2.0625 p2 = 1.875 mid = 1.96875 f(mid) = -0.0625\n",
      "p1 = 2.0625 p2 = 1.96875 mid = 2.015625 f(mid) = 0.03125\n",
      "p1 = 2.015625 p2 = 1.96875 mid = 1.9921875 f(mid) = -0.015625\n",
      "p1 = 2.015625 p2 = 1.9921875 mid = 2.00390625 f(mid) = 0.0078125\n",
      "p1 = 2.00390625 p2 = 1.9921875 mid = 1.998046875 f(mid) = -0.00390625\n",
      "p1 = 2.00390625 p2 = 1.998046875 mid = 2.0009765625 f(mid) = 0.001953125\n",
      "p1 = 2.0009765625 p2 = 1.998046875 mid = 1.99951171875 f(mid) = -0.0009765625\n",
      "p1 = 2.0009765625 p2 = 1.99951171875 mid = 2.000244140625 f(mid) = 0.00048828125\n",
      "p1 = 2.000244140625 p2 = 1.99951171875 mid = 1.9998779296875 f(mid) = -0.000244140625\n",
      "p1 = 2.000244140625 p2 = 1.9998779296875 mid = 2.00006103515625 f(mid) = 0.0001220703125\n",
      "p1 = 2.00006103515625 p2 = 1.9998779296875 mid = 1.999969482421875 f(mid) = -6.103515625e-05\n",
      "p1 = 2.00006103515625 p2 = 1.999969482421875 mid = 2.0000152587890625 f(mid) = 3.0517578125e-05\n",
      "p1 = 2.0000152587890625 p2 = 1.999969482421875 mid = 1.9999923706054688 f(mid) = -1.52587890625e-05\n",
      "p1 = 2.0000152587890625 p2 = 1.9999923706054688 mid = 2.0000038146972656 f(mid) = 7.62939453125e-06\n",
      "p1 = 2.0000038146972656 p2 = 1.9999923706054688 mid = 1.9999980926513672 f(mid) = -3.814697265625e-06\n",
      "p1 = 2.0000038146972656 p2 = 1.9999980926513672 mid = 2.0000009536743164 f(mid) = 1.9073486328125e-06\n",
      "p1 = 2.0000009536743164 p2 = 1.9999980926513672 mid = 1.9999995231628418 f(mid) = -9.5367431640625e-07\n",
      "p1 = 2.0000009536743164 p2 = 1.9999995231628418 mid = 2.000000238418579 f(mid) = 4.76837158203125e-07\n",
      "The root is approximately at 1.9999998807907104\n"
     ]
    }
   ],
   "source": [
    "# Function definition: This is the equation for which we are finding the root.\n",
    "def f(x):\n",
    "    return 2 * x - 4\n",
    "\n",
    "# Taking two initial guesses (p1 and p2) as input from the user.\n",
    "p1 = float(input(\"Enter the first value for p1: \"))\n",
    "p2 = float(input(\"Enter the second value for p2: \"))\n",
    "\n",
    "# Check if the guesses are valid (f(p1) and f(p2) must have opposite signs).\n",
    "if f(p1) * f(p2) >= 0:\n",
    "    print(\"Invalid inputs. p1 and p2 must have opposite signs.\")\n",
    "else:\n",
    "    # Bisection method loop: Continue until the range [p1, p2] is sufficiently small.\n",
    "    while abs(p2 - p1) > 0.000001:\n",
    "        # Calculate the midpoint of the current range.\n",
    "        mid = (p1 + p2) / 2\n",
    "        \n",
    "        # Print current values for p1, p2, mid, and f(mid).\n",
    "        print(\"p1 =\", p1, \"p2 =\", p2, \"mid =\", mid, \"f(mid) =\", f(mid))\n",
    "        \n",
    "        # If the midpoint is the root, stop the loop.\n",
    "        if f(mid) == 0:\n",
    "            break\n",
    "        # If f(p1) and f(mid) have opposite signs, update p2 to mid.\n",
    "        elif f(p1) * f(mid) < 0:\n",
    "            p2 = mid\n",
    "        # Otherwise, update p1 to mid.\n",
    "        else:\n",
    "            p1 = mid\n",
    "    \n",
    "    # Print the approximate root once the loop ends.\n",
    "    print(\"The root is approximately at\", (p1 + p2) / 2)\n",
    "\n",
    "\n"
   ]
  },
  {
   "cell_type": "code",
   "execution_count": null,
   "id": "2313b7f6-5ab8-4240-876e-0afbe894b01f",
   "metadata": {},
   "outputs": [],
   "source": []
  }
 ],
 "metadata": {
  "kernelspec": {
   "display_name": "Python 3 (ipykernel)",
   "language": "python",
   "name": "python3"
  },
  "language_info": {
   "codemirror_mode": {
    "name": "ipython",
    "version": 3
   },
   "file_extension": ".py",
   "mimetype": "text/x-python",
   "name": "python",
   "nbconvert_exporter": "python",
   "pygments_lexer": "ipython3",
   "version": "3.12.6"
  }
 },
 "nbformat": 4,
 "nbformat_minor": 5
}
