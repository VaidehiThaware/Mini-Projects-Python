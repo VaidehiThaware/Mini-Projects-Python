{
 "cells": [
  {
   "cell_type": "markdown",
   "id": "06c5988a-e612-49c7-97eb-97d3069633e5",
   "metadata": {},
   "source": [
    "# Mini Project 5: Chaos Game"
   ]
  },
  {
   "cell_type": "markdown",
   "id": "ef0c050b-4def-4191-86be-a4a4123666ce",
   "metadata": {},
   "source": [
    "#### 1. Draw the Sierpinski Triangle."
   ]
  },
  {
   "cell_type": "code",
   "execution_count": null,
   "id": "955733a4-8614-4706-ad51-4a201cf0e015",
   "metadata": {},
   "outputs": [],
   "source": [
    "import turtle\n",
    "import random\n",
    "\n",
    "t = turtle.Turtle()\n",
    "\n",
    "v = [(-300, -200), (0, -200), (300, 200)]\n",
    "for x, y in v:\n",
    "    t.penup()\n",
    "    t.goto(x, y)\n",
    "    t.dot(5)\n",
    "\n",
    "x, y = 0, 0\n",
    "for _ in range(10000):\n",
    "    vx, vy = random.choice(v)\n",
    "    x = (x + vx) / 2\n",
    "    y = (y + vy) / 2\n",
    "    t.penup()\n",
    "    t.goto(x, y)\n",
    "    t.dot(2)\n",
    "\n",
    "turtle.done()"
   ]
  },
  {
   "cell_type": "markdown",
   "id": "b18fece4-3c74-4da4-b51a-c3e87f63a8f7",
   "metadata": {},
   "source": [
    "### 2. Draw Spiral Helix Pattern. "
   ]
  },
  {
   "cell_type": "code",
   "execution_count": 4,
   "id": "013ced28-0e43-4111-9392-e1ebb9b6bb00",
   "metadata": {},
   "outputs": [
    {
     "ename": "Terminator",
     "evalue": "",
     "output_type": "error",
     "traceback": [
      "\u001b[1;31m---------------------------------------------------------------------------\u001b[0m",
      "\u001b[1;31mTerminator\u001b[0m                                Traceback (most recent call last)",
      "Cell \u001b[1;32mIn[4], line 3\u001b[0m\n\u001b[0;32m      1\u001b[0m \u001b[38;5;28;01mimport\u001b[39;00m \u001b[38;5;21;01mturtle\u001b[39;00m \n\u001b[0;32m      2\u001b[0m loadWindow \u001b[38;5;241m=\u001b[39m turtle\u001b[38;5;241m.\u001b[39mScreen() \n\u001b[1;32m----> 3\u001b[0m turtle\u001b[38;5;241m.\u001b[39mspeed(\u001b[38;5;241m2\u001b[39m) \n\u001b[0;32m      5\u001b[0m \u001b[38;5;28;01mfor\u001b[39;00m i \u001b[38;5;129;01min\u001b[39;00m \u001b[38;5;28mrange\u001b[39m(\u001b[38;5;241m100\u001b[39m): \n\u001b[0;32m      6\u001b[0m \tturtle\u001b[38;5;241m.\u001b[39mcircle(\u001b[38;5;241m5\u001b[39m\u001b[38;5;241m*\u001b[39mi) \n",
      "File \u001b[1;32m<string>:5\u001b[0m, in \u001b[0;36mspeed\u001b[1;34m(speed)\u001b[0m\n",
      "\u001b[1;31mTerminator\u001b[0m: "
     ]
    }
   ],
   "source": [
    "import turtle \n",
    "loadWindow = turtle.Screen() \n",
    "turtle.speed(2) \n",
    "\n",
    "for i in range(100): \n",
    "\tturtle.circle(5*i) \n",
    "\tturtle.circle(-5*i) \n",
    "\tturtle.left(i) \n",
    "\n",
    "turtle.exitonclick() \n"
   ]
  },
  {
   "cell_type": "markdown",
   "id": "6b5cd64c-617c-4e28-9c04-f77427413f39",
   "metadata": {},
   "source": [
    "### 3. Draw Square Spiral Pattern"
   ]
  },
  {
   "cell_type": "code",
   "execution_count": 4,
   "id": "ac91dd6f-fd81-456e-a94d-577ca1bab970",
   "metadata": {},
   "outputs": [],
   "source": [
    "import turtle\n",
    "\n",
    "t = turtle.Turtle()\n",
    "t.speed(0)\n",
    "turtle.bgcolor(\"black\")\n",
    "colors = [\"red\", \"orange\", \"yellow\", \"green\", \"blue\", \"purple\"]\n",
    "\n",
    "for i in range(200):\n",
    "    t.pencolor(colors[i % 6])\n",
    "    t.forward(i * 2)\n",
    "    t.left(91)\n",
    "\n",
    "turtle.done()\n"
   ]
  },
  {
   "cell_type": "markdown",
   "id": "c168d4d9-64cf-4e2b-a755-625b4aaea58b",
   "metadata": {},
   "source": [
    "### 4. Draw Starburst Spiral Pattern"
   ]
  },
  {
   "cell_type": "code",
   "execution_count": 1,
   "id": "458e48ed-e988-4b91-b749-975a46a80b79",
   "metadata": {},
   "outputs": [],
   "source": [
    "import turtle\n",
    "import math\n",
    "\n",
    "t = turtle.Turtle()\n",
    "t.speed(0)\n",
    "turtle.bgcolor(\"black\")\n",
    "colors = [\"cyan\", \"magenta\", \"yellow\", \"white\"]\n",
    "\n",
    "for i in range(150):\n",
    "    t.pencolor(colors[i % 4])\n",
    "    t.forward(math.sqrt(i) * 10)  # Increases spacing dynamically\n",
    "    t.right(144)  # Creates a star effect\n",
    "\n",
    "turtle.done()\n"
   ]
  },
  {
   "cell_type": "code",
   "execution_count": null,
   "id": "e2b95b0c-a793-4ec8-a693-1c9802d24e00",
   "metadata": {},
   "outputs": [],
   "source": []
  }
 ],
 "metadata": {
  "kernelspec": {
   "display_name": "Python [conda env:base] *",
   "language": "python",
   "name": "conda-base-py"
  },
  "language_info": {
   "codemirror_mode": {
    "name": "ipython",
    "version": 3
   },
   "file_extension": ".py",
   "mimetype": "text/x-python",
   "name": "python",
   "nbconvert_exporter": "python",
   "pygments_lexer": "ipython3",
   "version": "3.12.7"
  }
 },
 "nbformat": 4,
 "nbformat_minor": 5
}
