{
 "cells": [
  {
   "cell_type": "markdown",
   "id": "5cfb11f2-7139-447e-89fa-2aa3882e65c1",
   "metadata": {},
   "source": [
    "# Mini Project 7: KNN with NumPy\n",
    "### 1. Simple nearest neighbor:\n",
    "#### - Generate a list of n-dimensional points, call this the train set, and a test point.\n",
    "#### - Calculate the distance between the test point and each point in the train set.\n",
    "#### - Determine the closest point in the train set.\n",
    "### 2. Labelling\n",
    "#### - In part 1, assign a label to each point in the train set. Choose a suitable number of labels.\n",
    "#### - Return the label of the closest point, rather than the closest point.\n",
    "### 3. K nearest neighbors:\n",
    "#### - Determine the K nearest points. \n",
    "#### - Find out the majority label.\n",
    "#### - Run for different values of K\n"
   ]
  },
  {
   "cell_type": "code",
   "execution_count": null,
   "id": "c0aba650-8b78-4a14-be7f-2d5a889bad85",
   "metadata": {},
   "outputs": [],
   "source": [
    "import numpy as np"
   ]
  },
  {
   "cell_type": "code",
   "execution_count": 15,
   "id": "c7bd246b-1255-457c-b0a8-116171abdb9f",
   "metadata": {},
   "outputs": [],
   "source": [
    "# Part 1: Finding the Nearest Neighbor\n",
    "\n",
    "def generate_data(n, dim, num_labels):\n",
    "    train_data = np.random.rand(n, dim) * 10  \n",
    "    labels = np.random.randint(0, num_labels, n)  \n",
    "    return train_data, labels\n",
    "\n",
    "def euclidean_distance(p1, p2):\n",
    "    return np.sqrt(np.sum((p1 - p2) ** 2))\n",
    "\n",
    "def find_nearest_neighbor(train_data, test_point):\n",
    "    distances = [euclidean_distance(p, test_point) for p in train_data]\n",
    "    return np.argmin(distances)"
   ]
  },
  {
   "cell_type": "code",
   "execution_count": 17,
   "id": "220cdd2a-8f3c-4818-a39e-3b5a0c4d6d58",
   "metadata": {},
   "outputs": [
    {
     "name": "stdout",
     "output_type": "stream",
     "text": [
      "Nearest neighbor is at index: 5\n",
      "Nearest neighbor coordinates: [0.34743066 8.33607922]\n"
     ]
    }
   ],
   "source": [
    "# Create data\n",
    "n, dim, num_labels = 10, 2, 3  # 10 points, 2D space, 3 labels\n",
    "train_data, labels = generate_data(n, dim, num_labels)\n",
    "test_point = np.random.rand(dim) * 10  # Random test point\n",
    "\n",
    "nearest_index = find_nearest_neighbor(train_data, test_point)\n",
    "print(\"Nearest neighbor is at index:\", nearest_index)\n",
    "print(\"Nearest neighbor coordinates:\", train_data[nearest_index])"
   ]
  },
  {
   "cell_type": "code",
   "execution_count": 19,
   "id": "bf35c16f-aae0-4184-993f-f3f6d3e6a1ba",
   "metadata": {},
   "outputs": [
    {
     "name": "stdout",
     "output_type": "stream",
     "text": [
      "Label of the nearest neighbor: 2\n"
     ]
    }
   ],
   "source": [
    "# Part 2: Getting the Label\n",
    "\n",
    "def get_label(nearest_index, labels):\n",
    "    return labels[nearest_index]\n",
    "\n",
    "nearest_label = get_label(nearest_index, labels)\n",
    "print(\"Label of the nearest neighbor:\", nearest_label)"
   ]
  },
  {
   "cell_type": "code",
   "execution_count": 21,
   "id": "5194d56d-6d24-4636-9cb5-66c7a96e10a9",
   "metadata": {},
   "outputs": [],
   "source": [
    "# Part 3: K-Nearest Neighbors\n",
    "\n",
    "def find_k_nearest_neighbors(train_data, test_point, k):\n",
    "    distances = [euclidean_distance(p, test_point) for p in train_data]\n",
    "    return np.argsort(distances)[:k]\n",
    "\n",
    "def majority_label(nearest_indices, labels):\n",
    "    nearest_labels = labels[nearest_indices]\n",
    "    values, counts = np.unique(nearest_labels, return_counts=True)\n",
    "    return values[np.argmax(counts)]\n"
   ]
  },
  {
   "cell_type": "code",
   "execution_count": 23,
   "id": "b8d25467-8816-476f-bd17-9002508d1b22",
   "metadata": {},
   "outputs": [
    {
     "name": "stdout",
     "output_type": "stream",
     "text": [
      "For K= 1 most common label: 2\n",
      "For K= 3 most common label: 2\n",
      "For K= 5 most common label: 2\n"
     ]
    }
   ],
   "source": [
    "# Check different K values\n",
    "for k in [1, 3, 5]:\n",
    "    k_nearest_indices = find_k_nearest_neighbors(train_data, test_point, k)\n",
    "    k_nearest_label = majority_label(k_nearest_indices, labels)\n",
    "    print(\"For K=\", k, \"most common label:\", k_nearest_label)\n"
   ]
  },
  {
   "cell_type": "code",
   "execution_count": null,
   "id": "fefff3de-7f5b-461c-a571-fbf66e38f325",
   "metadata": {},
   "outputs": [],
   "source": []
  }
 ],
 "metadata": {
  "kernelspec": {
   "display_name": "Python [conda env:base] *",
   "language": "python",
   "name": "conda-base-py"
  },
  "language_info": {
   "codemirror_mode": {
    "name": "ipython",
    "version": 3
   },
   "file_extension": ".py",
   "mimetype": "text/x-python",
   "name": "python",
   "nbconvert_exporter": "python",
   "pygments_lexer": "ipython3",
   "version": "3.12.7"
  }
 },
 "nbformat": 4,
 "nbformat_minor": 5
}
